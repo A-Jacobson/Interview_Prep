{
 "cells": [
  {
   "cell_type": "markdown",
   "metadata": {},
   "source": [
    "Merge Sort is a good introduction to divide and conquer paradime\n",
    "- nlogn runtime\n",
    "- recusive algorithm, need base case"
   ]
  },
  {
   "cell_type": "code",
   "execution_count": 269,
   "metadata": {
    "collapsed": true
   },
   "outputs": [],
   "source": [
    "n = [4, 5, 3, 2, 1] # input"
   ]
  },
  {
   "cell_type": "code",
   "execution_count": 277,
   "metadata": {
    "collapsed": false
   },
   "outputs": [],
   "source": [
    "def mergesort(array):\n",
    "    \"0(logn) for sort * 0(n) merge\"\n",
    "    if len(array) <= 1:\n",
    "        return array\n",
    "    else:\n",
    "        mid = len(array)/2\n",
    "        left = array[:mid] # requires extra space\n",
    "        right = array[mid:] # slicing operator is 0(k) =(\n",
    "        mergesort(left) # assumed left half and right half are sorted here --\n",
    "        mergesort(right)\n",
    "        return merge(left, right, array)\n",
    "    \n",
    "def merge(left, right, array):\n",
    "    \"\"\"\n",
    "    0(n)\n",
    "    \"\"\"\n",
    "    i = 0\n",
    "    j = 0\n",
    "    k = 0\n",
    "    while i < len(left) and j < len(right): # this will terminate once we reach the end of either side. if that happens, all elements in the oppisite side must be larger\n",
    "        if left[i] < right[j]:\n",
    "            array[k] = left[i]\n",
    "            i += 1\n",
    "        else:\n",
    "            array[k] = right[j]\n",
    "            j += 1\n",
    "        k += 1\n",
    "\n",
    "    while i < len(left): # this will engage if all elements in the left side are larger than the right\n",
    "        array[k] = left[i]\n",
    "        i += 1\n",
    "        k += 1\n",
    "\n",
    "    while j < len(right):\n",
    "        array[k] = right[j]\n",
    "        j += 1\n",
    "        k += 1    \n",
    "\n",
    "    return array           "
   ]
  },
  {
   "cell_type": "code",
   "execution_count": 275,
   "metadata": {
    "collapsed": false
   },
   "outputs": [
    {
     "data": {
      "text/plain": [
       "[1, 2, 3, 4, 5]"
      ]
     },
     "execution_count": 275,
     "metadata": {},
     "output_type": "execute_result"
    }
   ],
   "source": [
    "mergesort(n)"
   ]
  },
  {
   "cell_type": "code",
   "execution_count": null,
   "metadata": {
    "collapsed": true
   },
   "outputs": [],
   "source": []
  }
 ],
 "metadata": {
  "anaconda-cloud": {},
  "kernelspec": {
   "display_name": "Python [default]",
   "language": "python",
   "name": "python2"
  },
  "language_info": {
   "codemirror_mode": {
    "name": "ipython",
    "version": 2
   },
   "file_extension": ".py",
   "mimetype": "text/x-python",
   "name": "python",
   "nbconvert_exporter": "python",
   "pygments_lexer": "ipython2",
   "version": "2.7.12"
  }
 },
 "nbformat": 4,
 "nbformat_minor": 1
}
