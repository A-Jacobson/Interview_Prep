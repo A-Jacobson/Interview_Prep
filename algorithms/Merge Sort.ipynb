{
 "cells": [
  {
   "cell_type": "markdown",
   "metadata": {},
   "source": [
    "Merge Sort is a good introduction to divide and conquer paradime\n",
    "- nlogn runtime\n",
    "- recusive algorithm, need base case"
   ]
  },
  {
   "cell_type": "code",
   "execution_count": 33,
   "metadata": {
    "collapsed": true
   },
   "outputs": [],
   "source": [
    "n = [5, 4, 1, 8, 7, 2, 6, 3] # input\n",
    "output = [1, 2, 3, 4, 5, 6 ,7, 8] # output"
   ]
  },
  {
   "cell_type": "code",
   "execution_count": 34,
   "metadata": {
    "collapsed": false
   },
   "outputs": [],
   "source": [
    "def merge_sort(n):\n",
    "    print \"input:\", n\n",
    "    if len(n) > 1:\n",
    "        mid = len(n)//2\n",
    "        left = merge_sort(n[:mid]) # splits left side until only one element then returns that element\n",
    "        right = merge_sort(n[mid:])\n",
    "        print \"left:\", left\n",
    "        print \"right:\", right\n",
    "        return merge(n, left, right)\n",
    "    else:\n",
    "        return n\n",
    "\n",
    "def merge(n, left, right):\n",
    "    # left and right are sorted arrays ex [1, 2, 3, 4] , [2, 3, 4, 5] we just have to check the first element in each\n",
    "    if not len(left):\n",
    "        return right\n",
    "    if not len(right):\n",
    "        return left\n",
    "    i = 0 # left counter\n",
    "    j = 0 # right counter\n",
    "    k = 0\n",
    "    while i < len(left) and j < len(right):\n",
    "        print \"left[i]\", left[i]\n",
    "        print \"right[j]\", right[j]\n",
    "        if left[i] < right[j]:\n",
    "            n[k] = left[i]\n",
    "            i += 1\n",
    "            k +=1\n",
    "        else:\n",
    "            n[k] = right[j]\n",
    "            j += 1\n",
    "            k += 1\n",
    "    return n\n"
   ]
  },
  {
   "cell_type": "code",
   "execution_count": 35,
   "metadata": {
    "collapsed": false
   },
   "outputs": [
    {
     "name": "stdout",
     "output_type": "stream",
     "text": [
      "input: [5, 4, 1, 8, 7, 2, 6, 3]\n",
      "input: [5, 4, 1, 8]\n",
      "input: [5, 4]\n",
      "input: [5]\n",
      "input: [4]\n",
      "left: [5]\n",
      "right: [4]\n",
      "left[i] 5\n",
      "right[j] 4\n",
      "input: [1, 8]\n",
      "input: [1]\n",
      "input: [8]\n",
      "left: [1]\n",
      "right: [8]\n",
      "left[i] 1\n",
      "right[j] 8\n",
      "left: [4, 4]\n",
      "right: [1, 8]\n",
      "left[i] 4\n",
      "right[j] 1\n",
      "left[i] 4\n",
      "right[j] 8\n",
      "left[i] 4\n",
      "right[j] 8\n",
      "input: [7, 2, 6, 3]\n",
      "input: [7, 2]\n",
      "input: [7]\n",
      "input: [2]\n",
      "left: [7]\n",
      "right: [2]\n",
      "left[i] 7\n",
      "right[j] 2\n",
      "input: [6, 3]\n",
      "input: [6]\n",
      "input: [3]\n",
      "left: [6]\n",
      "right: [3]\n",
      "left[i] 6\n",
      "right[j] 3\n",
      "left: [2, 2]\n",
      "right: [3, 3]\n",
      "left[i] 2\n",
      "right[j] 3\n",
      "left[i] 2\n",
      "right[j] 3\n",
      "left: [1, 4, 4, 8]\n",
      "right: [2, 2, 6, 3]\n",
      "left[i] 1\n",
      "right[j] 2\n",
      "left[i] 4\n",
      "right[j] 2\n",
      "left[i] 4\n",
      "right[j] 2\n",
      "left[i] 4\n",
      "right[j] 6\n",
      "left[i] 4\n",
      "right[j] 6\n",
      "left[i] 8\n",
      "right[j] 6\n",
      "left[i] 8\n",
      "right[j] 3\n"
     ]
    },
    {
     "data": {
      "text/plain": [
       "[1, 2, 2, 4, 4, 6, 3, 3]"
      ]
     },
     "execution_count": 35,
     "metadata": {},
     "output_type": "execute_result"
    }
   ],
   "source": [
    "merge_sort(n)"
   ]
  },
  {
   "cell_type": "code",
   "execution_count": 36,
   "metadata": {
    "collapsed": false
   },
   "outputs": [
    {
     "data": {
      "text/plain": [
       "[1, 2, 2, 3, 3, 4, 4, 6]"
      ]
     },
     "execution_count": 36,
     "metadata": {},
     "output_type": "execute_result"
    }
   ],
   "source": [
    "sorted(n)"
   ]
  },
  {
   "cell_type": "code",
   "execution_count": 37,
   "metadata": {
    "collapsed": false
   },
   "outputs": [
    {
     "data": {
      "text/plain": [
       "[1, 2, 2, 4, 4, 6, 3, 3]"
      ]
     },
     "execution_count": 37,
     "metadata": {},
     "output_type": "execute_result"
    }
   ],
   "source": []
  },
  {
   "cell_type": "code",
   "execution_count": null,
   "metadata": {
    "collapsed": true
   },
   "outputs": [],
   "source": []
  }
 ],
 "metadata": {
  "anaconda-cloud": {},
  "kernelspec": {
   "display_name": "Python [default]",
   "language": "python",
   "name": "python2"
  },
  "language_info": {
   "codemirror_mode": {
    "name": "ipython",
    "version": 2
   },
   "file_extension": ".py",
   "mimetype": "text/x-python",
   "name": "python",
   "nbconvert_exporter": "python",
   "pygments_lexer": "ipython2",
   "version": "2.7.12"
  }
 },
 "nbformat": 4,
 "nbformat_minor": 1
}
