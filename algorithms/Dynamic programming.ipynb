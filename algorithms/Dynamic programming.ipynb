{
 "cells": [
  {
   "cell_type": "code",
   "execution_count": 1,
   "metadata": {
    "collapsed": true
   },
   "outputs": [],
   "source": [
    "# make change using the fewest coins\n",
    "# specs:\n",
    "# input : 36\n",
    "# output : 3\n",
    "# coins = 25, 10, 5, 1"
   ]
  },
  {
   "cell_type": "code",
   "execution_count": 2,
   "metadata": {
    "collapsed": true
   },
   "outputs": [],
   "source": [
    "def make_change(coins, change):\n",
    "    min_coins = change # max - all pennies\n",
    "    if change in coins:\n",
    "        return 1\n",
    "    else:\n",
    "        for i in [c for c in coins if c <= change]: # for each coin less than change amount\n",
    "            num_coins = 1 + make_change(coins, change-i) # call make_change with change - coin amount and add 1 to num coins\n",
    "            if num_coins < min_coins:\n",
    "                min_coins = num_coins\n",
    "        return min_coins"
   ]
  },
  {
   "cell_type": "code",
   "execution_count": 5,
   "metadata": {
    "collapsed": false
   },
   "outputs": [
    {
     "data": {
      "text/plain": [
       "5"
      ]
     },
     "execution_count": 5,
     "metadata": {},
     "output_type": "execute_result"
    }
   ],
   "source": [
    "make_change([25, 10, 5, 1], 53)"
   ]
  },
  {
   "cell_type": "code",
   "execution_count": 6,
   "metadata": {
    "collapsed": true
   },
   "outputs": [],
   "source": [
    "# memoization remembers results\n",
    "# dp systematically works it's way up"
   ]
  },
  {
   "cell_type": "code",
   "execution_count": 7,
   "metadata": {
    "collapsed": true
   },
   "outputs": [],
   "source": [
    "def make_change_dp(coins, change, min_coins):\n",
    "    for cents in range(change+1):\n",
    "        coin_count = cents\n",
    "        for j in [c for c in coins if c <= cents]:\n",
    "            if min_coins[cents-j] + 1 < coin_count:\n",
    "                coin_count = min_coins[cents-j]+1\n",
    "            min_coins[cents] = coin_count\n",
    "    return min_coins[change]"
   ]
  },
  {
   "cell_type": "code",
   "execution_count": null,
   "metadata": {
    "collapsed": true
   },
   "outputs": [],
   "source": []
  }
 ],
 "metadata": {
  "kernelspec": {
   "display_name": "Python [default]",
   "language": "python",
   "name": "python2"
  },
  "language_info": {
   "codemirror_mode": {
    "name": "ipython",
    "version": 2
   },
   "file_extension": ".py",
   "mimetype": "text/x-python",
   "name": "python",
   "nbconvert_exporter": "python",
   "pygments_lexer": "ipython2",
   "version": "2.7.12"
  }
 },
 "nbformat": 4,
 "nbformat_minor": 1
}
